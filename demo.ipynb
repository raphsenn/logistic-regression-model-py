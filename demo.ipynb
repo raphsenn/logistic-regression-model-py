{
 "cells": [
  {
   "cell_type": "code",
   "execution_count": 2,
   "metadata": {},
   "outputs": [],
   "source": [
    "from logistic_regression import LogisticRegression\n",
    "import numpy as np"
   ]
  },
  {
   "cell_type": "code",
   "execution_count": 10,
   "metadata": {},
   "outputs": [
    {
     "name": "stdout",
     "output_type": "stream",
     "text": [
      "[[0 0]\n",
      " [0 1]]\n",
      "[[1 0]\n",
      " [1 1]]\n",
      "[[0 0]\n",
      " [0 1]]\n",
      "[[1 0]\n",
      " [1 1]]\n",
      "[[0 0]\n",
      " [0 1]]\n",
      "[[1 0]\n",
      " [1 1]]\n",
      "[[0 0]\n",
      " [0 1]]\n",
      "[[1 0]\n",
      " [1 1]]\n",
      "[[0 0]\n",
      " [0 1]]\n",
      "[[1 0]\n",
      " [1 1]]\n",
      "[[0 0]\n",
      " [0 1]]\n",
      "[[1 0]\n",
      " [1 1]]\n",
      "[[0 0]\n",
      " [0 1]]\n",
      "[[1 0]\n",
      " [1 1]]\n",
      "[[0 0]\n",
      " [0 1]]\n",
      "[[1 0]\n",
      " [1 1]]\n",
      "[[0 0]\n",
      " [0 1]]\n",
      "[[1 0]\n",
      " [1 1]]\n",
      "[[0 0]\n",
      " [0 1]]\n",
      "[[1 0]\n",
      " [1 1]]\n"
     ]
    }
   ],
   "source": [
    "AND_Gate = LogisticRegression(2, max_iterations=10, learning_rate=0.01)\n",
    "X_train = np.array([[0, 0], [0, 1], [1, 0], [1, 1]])\n",
    "y_train = np.array([0, 0, 0, 1])\n",
    "AND_Gate.fit(X_train, y_train, batch_size=2, verbose=True)"
   ]
  }
 ],
 "metadata": {
  "kernelspec": {
   "display_name": "Python 3",
   "language": "python",
   "name": "python3"
  },
  "language_info": {
   "codemirror_mode": {
    "name": "ipython",
    "version": 3
   },
   "file_extension": ".py",
   "mimetype": "text/x-python",
   "name": "python",
   "nbconvert_exporter": "python",
   "pygments_lexer": "ipython3",
   "version": "3.11.8"
  }
 },
 "nbformat": 4,
 "nbformat_minor": 2
}
